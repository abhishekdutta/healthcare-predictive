{
 "cells": [
  {
   "cell_type": "code",
   "execution_count": 1,
   "metadata": {},
   "outputs": [],
   "source": [
    "import sklearn\n",
    "from sklearn import svm\n",
    "import csv"
   ]
  },
  {
   "cell_type": "code",
   "execution_count": 2,
   "metadata": {},
   "outputs": [],
   "source": [
    "with open('ECG_time_series.csv', 'rb') as read_file:\n",
    "    data = csv.reader(read_file)\n",
    "    \n",
    "    ## Skip header\n",
    "    next(data)\n",
    "    \n",
    "    X_val=[]\n",
    "    Y_val=[]\n",
    "    for row in data:\n",
    "        temp=[]\n",
    "        for i in range(1,len(row)):\n",
    "            ele=row[i]\n",
    "            if ele=='Not a number':\n",
    "                ele=0\n",
    "            temp.append(float(ele))\n",
    "            \n",
    "        X_val.append(temp[:len(temp)-1])\n",
    "        Y_val.append(int(temp[len(temp)-1]))"
   ]
  },
  {
   "cell_type": "code",
   "execution_count": 3,
   "metadata": {},
   "outputs": [],
   "source": [
    "train_per=0.75\n",
    "total=len(Y_val)\n",
    "\n",
    "train_vals=int(train_per*total)\n",
    "X_train=X_val[:train_vals]\n",
    "Y_train=Y_val[:train_vals]\n",
    "\n",
    "X_test=X_val[train_vals:]\n",
    "Y_test=Y_val[train_vals:]"
   ]
  },
  {
   "cell_type": "code",
   "execution_count": 4,
   "metadata": {},
   "outputs": [
    {
     "data": {
      "text/plain": [
       "OneClassSVM(cache_size=200, coef0=0.0, degree=3, gamma='auto', kernel='rbf',\n",
       "      max_iter=-1, nu=0.5, random_state=None, shrinking=True, tol=0.001,\n",
       "      verbose=False)"
      ]
     },
     "execution_count": 4,
     "metadata": {},
     "output_type": "execute_result"
    }
   ],
   "source": [
    "clf = svm.OneClassSVM()\n",
    "clf.fit(X_train, Y_train) "
   ]
  },
  {
   "cell_type": "code",
   "execution_count": 5,
   "metadata": {},
   "outputs": [],
   "source": [
    "predicted=clf.predict(X_test)"
   ]
  },
  {
   "cell_type": "code",
   "execution_count": 6,
   "metadata": {},
   "outputs": [],
   "source": [
    "for i in range(0,len(predicted)):\n",
    "    if predicted[i]<0:\n",
    "        predicted[i]=0\n",
    "\n",
    "#print(predicted)"
   ]
  },
  {
   "cell_type": "code",
   "execution_count": 7,
   "metadata": {},
   "outputs": [
    {
     "name": "stdout",
     "output_type": "stream",
     "text": [
      "831\n",
      "848\n"
     ]
    }
   ],
   "source": [
    "total=len(Y_test)\n",
    "correct=0\n",
    "for i in range(0,len(predicted)):\n",
    "    if predicted[i]==Y_test[i]:\n",
    "         correct+=1\n",
    "\n",
    "print(correct)\n",
    "print(total)"
   ]
  },
  {
   "cell_type": "code",
   "execution_count": 8,
   "metadata": {},
   "outputs": [
    {
     "name": "stdout",
     "output_type": "stream",
     "text": [
      "0.979952830189\n"
     ]
    }
   ],
   "source": [
    "acc=float(correct)/total\n",
    "print(acc)"
   ]
  },
  {
   "cell_type": "code",
   "execution_count": 9,
   "metadata": {},
   "outputs": [
    {
     "data": {
      "text/plain": [
       "0.97995283018867929"
      ]
     },
     "execution_count": 9,
     "metadata": {},
     "output_type": "execute_result"
    }
   ],
   "source": [
    "sklearn.metrics.accuracy_score(Y_test, predicted)"
   ]
  },
  {
   "cell_type": "code",
   "execution_count": 24,
   "metadata": {},
   "outputs": [],
   "source": [
    "g = csv.writer(open(\"ECG_visualization_data.csv\", \"w\"))\n",
    "\n",
    "header =['Actual Label','Predicted Label']\n",
    "g.writerow(header)\n",
    "\n",
    "for i in range(0,len(predicted)):\n",
    "    g.writerow([predicted[i],Y_test[i]])"
   ]
  }
 ],
 "metadata": {
  "kernelspec": {
   "display_name": "Python 2",
   "language": "python",
   "name": "python2"
  },
  "language_info": {
   "codemirror_mode": {
    "name": "ipython",
    "version": 2
   },
   "file_extension": ".py",
   "mimetype": "text/x-python",
   "name": "python",
   "nbconvert_exporter": "python",
   "pygments_lexer": "ipython2",
   "version": "2.7.13"
  }
 },
 "nbformat": 4,
 "nbformat_minor": 2
}
