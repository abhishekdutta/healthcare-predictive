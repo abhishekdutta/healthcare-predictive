{
 "cells": [
  {
   "cell_type": "code",
   "execution_count": 104,
   "metadata": {},
   "outputs": [],
   "source": [
    "import sklearn\n",
    "from sklearn import svm\n",
    "import csv"
   ]
  },
  {
   "cell_type": "code",
   "execution_count": 105,
   "metadata": {},
   "outputs": [],
   "source": [
    "with open('ECG_time_series.csv', 'rb') as read_file:\n",
    "    data = csv.reader(read_file)\n",
    "    \n",
    "    ## Skip header\n",
    "    next(data)\n",
    "    \n",
    "    X_val=[]\n",
    "    Y_val=[]\n",
    "    for row in data:\n",
    "        temp=[]\n",
    "        for ele in row:\n",
    "            if ele=='Not a number':\n",
    "                ele=0\n",
    "            temp.append(float(ele))\n",
    "            \n",
    "        X_val.append(temp[:13])\n",
    "        Y_val.append(int(temp[13]))"
   ]
  },
  {
   "cell_type": "code",
   "execution_count": 73,
   "metadata": {},
   "outputs": [],
   "source": [
    "#X_val=sklearn.preprocessing.normalize(X_val)\n",
    "#print(try_train)"
   ]
  },
  {
   "cell_type": "code",
   "execution_count": 106,
   "metadata": {},
   "outputs": [],
   "source": [
    "train_per=0.75\n",
    "total=len(Y_val)\n",
    "\n",
    "train_vals=int(train_per*total)\n",
    "X_train=X_val[:train_vals]\n",
    "Y_train=Y_val[:train_vals]\n",
    "\n",
    "X_test=X_val[train_vals:]\n",
    "Y_test=Y_val[train_vals:]"
   ]
  },
  {
   "cell_type": "code",
   "execution_count": 107,
   "metadata": {},
   "outputs": [
    {
     "data": {
      "text/plain": [
       "OneClassSVM(cache_size=200, coef0=0.0, degree=3, gamma='auto', kernel='rbf',\n",
       "      max_iter=-1, nu=0.5, random_state=None, shrinking=True, tol=0.001,\n",
       "      verbose=False)"
      ]
     },
     "execution_count": 107,
     "metadata": {},
     "output_type": "execute_result"
    }
   ],
   "source": [
    "clf = svm.OneClassSVM()\n",
    "clf.fit(X_train, Y_train) "
   ]
  },
  {
   "cell_type": "code",
   "execution_count": 108,
   "metadata": {},
   "outputs": [],
   "source": [
    "predicted=clf.predict(X_test)"
   ]
  },
  {
   "cell_type": "code",
   "execution_count": 109,
   "metadata": {},
   "outputs": [],
   "source": [
    "for i in range(0,len(predicted)):\n",
    "    if predicted[i]<0:\n",
    "        predicted[i]=0\n",
    "\n",
    "#print(predicted)"
   ]
  },
  {
   "cell_type": "code",
   "execution_count": 110,
   "metadata": {},
   "outputs": [
    {
     "name": "stdout",
     "output_type": "stream",
     "text": [
      "17900\n",
      "17924\n"
     ]
    }
   ],
   "source": [
    "total=len(Y_test)\n",
    "correct=0\n",
    "for i in range(0,len(predicted)):\n",
    "    if predicted[i]==Y_test[i]:\n",
    "         correct+=1\n",
    "\n",
    "print(correct)\n",
    "print(total)"
   ]
  },
  {
   "cell_type": "code",
   "execution_count": 111,
   "metadata": {},
   "outputs": [
    {
     "name": "stdout",
     "output_type": "stream",
     "text": [
      "0.998661013167\n"
     ]
    }
   ],
   "source": [
    "acc=float(correct)/total\n",
    "print(acc)"
   ]
  },
  {
   "cell_type": "code",
   "execution_count": 112,
   "metadata": {},
   "outputs": [
    {
     "data": {
      "text/plain": [
       "0.99866101316670386"
      ]
     },
     "execution_count": 112,
     "metadata": {},
     "output_type": "execute_result"
    }
   ],
   "source": [
    "sklearn.metrics.accuracy_score(Y_test, predicted)"
   ]
  },
  {
   "cell_type": "code",
   "execution_count": null,
   "metadata": {},
   "outputs": [],
   "source": []
  }
 ],
 "metadata": {
  "kernelspec": {
   "display_name": "Python 2",
   "language": "python",
   "name": "python2"
  },
  "language_info": {
   "codemirror_mode": {
    "name": "ipython",
    "version": 2
   },
   "file_extension": ".py",
   "mimetype": "text/x-python",
   "name": "python",
   "nbconvert_exporter": "python",
   "pygments_lexer": "ipython2",
   "version": "2.7.13"
  }
 },
 "nbformat": 4,
 "nbformat_minor": 2
}
