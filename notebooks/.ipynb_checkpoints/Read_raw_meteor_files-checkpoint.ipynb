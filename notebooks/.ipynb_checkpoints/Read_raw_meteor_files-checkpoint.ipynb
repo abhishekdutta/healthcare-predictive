{
 "cells": [
  {
   "cell_type": "markdown",
   "metadata": {},
   "source": [
    "# Convert RAW JSON listener files to annotator-friendly file\n",
    "\n",
    "* Project: AHRQ/MeTeOR/PERSEUS"
   ]
  },
  {
   "cell_type": "markdown",
   "metadata": {},
   "source": [
    "## Imports"
   ]
  },
  {
   "cell_type": "code",
   "execution_count": 1,
   "metadata": {
    "collapsed": true
   },
   "outputs": [],
   "source": [
    "import pandas as pd\n",
    "import numpy as np\n",
    "import matplotlib.pyplot as plt\n",
    "from datetime import datetime\n",
    "%matplotlib inline"
   ]
  },
  {
   "cell_type": "markdown",
   "metadata": {},
   "source": [
    "## Create functions for assigning timestamps to signals\n",
    "\n",
    "Data arrives in packets of 64 (ecg) or 32 (pleth) with a single timestamp. Therefore, each array needs to manually be assigned individual timestamps."
   ]
  },
  {
   "cell_type": "code",
   "execution_count": 2,
   "metadata": {
    "collapsed": true
   },
   "outputs": [],
   "source": [
    "def expand_pleth_times(timestamp):\n",
    "    x = pd.date_range(timestamp, periods=32,freq='8L',closed=\"left\")\n",
    "    return x\n",
    "\n",
    "def expand_ecg_times(timestamp):\n",
    "    x = pd.date_range(timestamp, periods=64,freq='4L',closed=\"left\")\n",
    "    return x"
   ]
  },
  {
   "cell_type": "markdown",
   "metadata": {},
   "source": [
    "## Load and Clean Signals\n",
    "\n",
    "* Load physio data\n",
    "* Cleaning:\n",
    "    * Timestamps/timezones -- physio data CSVs are time local (EST) but alamrs come with UTC offset.\n",
    "        * Bokeh visualizer and pandas treat times as UTC, so must explicitly declare TZ intent.\n",
    "    * Merge duplicate timestamp entries into 1 row"
   ]
  },
  {
   "cell_type": "code",
   "execution_count": null,
   "metadata": {
    "collapsed": true
   },
   "outputs": [],
   "source": [
    "#fname = 'data//Brown datathon 3.4-5.2017 files/x00-02.1982-06-25 (de-id)'\n",
    "fname = '../../original_data/x00-03.2017-05-26'"
   ]
  },
  {
   "cell_type": "code",
   "execution_count": null,
   "metadata": {
    "collapsed": true
   },
   "outputs": [],
   "source": [
    "physio_df = pd.read_json(fname, lines=True)"
   ]
  },
  {
   "cell_type": "code",
   "execution_count": null,
   "metadata": {
    "collapsed": true
   },
   "outputs": [],
   "source": [
    "physio_df.set_index(\"timestamp\",inplace=True)"
   ]
  },
  {
   "cell_type": "code",
   "execution_count": null,
   "metadata": {
    "collapsed": true
   },
   "outputs": [],
   "source": [
    "physio_df.tz_localize('Etc/GMT+4',copy=False)"
   ]
  },
  {
   "cell_type": "code",
   "execution_count": null,
   "metadata": {
    "collapsed": true
   },
   "outputs": [],
   "source": [
    "'''\n",
    "Collapse multiple entries for a single timestamp to one row.\n",
    "\n",
    "Example, this:\n",
    "\n",
    "        value_1 value_2 value_3\n",
    "time_1    1        1      NaN\n",
    "time_1    NaN     NaN      1\n",
    "\n",
    "Becomes:\n",
    "        value_1 value_2 value_3\n",
    "time_1     1       1       1\n",
    "\n",
    "'''\n",
    "\n",
    "cleaned_physio_df = physio_df.groupby(\"timestamp\").first().combine_first(physio_df.groupby(\"timestamp\").last())"
   ]
  },
  {
   "cell_type": "code",
   "execution_count": null,
   "metadata": {
    "collapsed": true
   },
   "outputs": [],
   "source": [
    "cleaned_physio_df[['Heart Rate','Respiration Rate','SpO2','qos']] = cleaned_physio_df[['Heart Rate','Respiration Rate','SpO2','qos']].apply(pd.to_numeric,errors='coerce')"
   ]
  },
  {
   "cell_type": "code",
   "execution_count": null,
   "metadata": {
    "collapsed": true
   },
   "outputs": [],
   "source": [
    "cleaned_physio_df"
   ]
  },
  {
   "cell_type": "code",
   "execution_count": null,
   "metadata": {
    "collapsed": true
   },
   "outputs": [],
   "source": [
    "cleaned_physio_df.isnull().sum()"
   ]
  },
  {
   "cell_type": "markdown",
   "metadata": {
    "collapsed": true
   },
   "source": [
    "## Load and Clean Alarms\n",
    "\n",
    "* Load alarm data\n",
    "* Cleaning:\n",
    "    * Timestamps/timezones"
   ]
  },
  {
   "cell_type": "code",
   "execution_count": null,
   "metadata": {
    "collapsed": true
   },
   "outputs": [],
   "source": [
    "alarms_fname = '../../original_data/x00-03_5.26.2017_alarms.csv'"
   ]
  },
  {
   "cell_type": "code",
   "execution_count": null,
   "metadata": {
    "collapsed": true
   },
   "outputs": [],
   "source": [
    "alarms_df = pd.read_csv(alarms_fname,parse_dates=[0])"
   ]
  },
  {
   "cell_type": "code",
   "execution_count": null,
   "metadata": {
    "collapsed": true
   },
   "outputs": [],
   "source": [
    "alarms_df.set_index(\"_time\", inplace=True)"
   ]
  },
  {
   "cell_type": "code",
   "execution_count": null,
   "metadata": {
    "collapsed": true
   },
   "outputs": [],
   "source": [
    "alarms_df.tz_localize(\"UTC\",copy=False).tz_convert('Etc/GMT+4',copy=False)"
   ]
  },
  {
   "cell_type": "code",
   "execution_count": null,
   "metadata": {
    "collapsed": true
   },
   "outputs": [],
   "source": [
    "alarms = alarms_df.index.to_pydatetime()"
   ]
  },
  {
   "cell_type": "markdown",
   "metadata": {},
   "source": [
    "## Putting it together\n",
    "\n",
    "* Pipeline:\n",
    "    1. Choose an alarm\n",
    "    2. Slice dataframe based on window of time around alarm (isolated_physio_df)\n",
    "    3. Unpack the dictionary containing non-invasive blood pressure values"
   ]
  },
  {
   "cell_type": "code",
   "execution_count": null,
   "metadata": {
    "collapsed": true
   },
   "outputs": [],
   "source": [
    "alarm = alarms[0]"
   ]
  },
  {
   "cell_type": "code",
   "execution_count": null,
   "metadata": {
    "collapsed": true
   },
   "outputs": [],
   "source": [
    "# isolated_physio_df = cleaned_physio_df[alarm-pd.Timedelta(\"500 seconds\"):alarm+pd.Timedelta(\"500 seconds\")]\n",
    "isolated_physio_df = cleaned_physio_df[alarm-pd.Timedelta(\"500 seconds\"):alarm]"
   ]
  },
  {
   "cell_type": "code",
   "execution_count": null,
   "metadata": {
    "collapsed": true
   },
   "outputs": [],
   "source": [
    "isolated_physio_df[[\"diastolic_bp\",\"mean_bp\",\"systolic_bp\"]] = isolated_physio_df[\"Non-invasive Blood Pressure\"].apply(pd.Series).apply(pd.to_numeric,errors='coerce')"
   ]
  },
  {
   "cell_type": "code",
   "execution_count": null,
   "metadata": {
    "collapsed": true
   },
   "outputs": [],
   "source": [
    "isolated_physio_df"
   ]
  },
  {
   "cell_type": "code",
   "execution_count": null,
   "metadata": {
    "collapsed": true
   },
   "outputs": [],
   "source": [
    "x = np.hstack(isolated_physio_df[\"Pleth\"].dropna().index.to_series().apply(expand_pleth_times).values)\n",
    "y = np.hstack(isolated_physio_df[\"Pleth\"].dropna().values)"
   ]
  },
  {
   "cell_type": "code",
   "execution_count": null,
   "metadata": {
    "collapsed": true
   },
   "outputs": [],
   "source": [
    "plt.plot(x,y)"
   ]
  },
  {
   "cell_type": "code",
   "execution_count": null,
   "metadata": {
    "collapsed": true
   },
   "outputs": [],
   "source": [
    "# x = np.hstack(isolated_physio_df[\"SpO2\"].dropna().index.to_series())\n",
    "# y = np.hstack(isolated_physio_df[\"SpO2\"].dropna().values)\n",
    "# plt.plot(x,y)"
   ]
  },
  {
   "cell_type": "code",
   "execution_count": null,
   "metadata": {
    "collapsed": true
   },
   "outputs": [],
   "source": [
    "# start = isolated_physio_df.index[0].to_pydatetime()\n",
    "# increment = 8*pd.Timedelta(\"10 seconds\")\n",
    "# window_length = pd.Timedelta(\"10 seconds\")"
   ]
  },
  {
   "cell_type": "code",
   "execution_count": null,
   "metadata": {
    "collapsed": true
   },
   "outputs": [],
   "source": [
    "# x = isolated_physio_df[start+increment:start+increment+window_length].mean_bp.dropna().index.to_series() # need to_series for tz-aware\n",
    "# y = isolated_physio_df[start+increment:start+increment+window_length].mean_bp.dropna()"
   ]
  },
  {
   "cell_type": "code",
   "execution_count": null,
   "metadata": {
    "collapsed": true
   },
   "outputs": [],
   "source": [
    "# plt.plot(x,y)"
   ]
  },
  {
   "cell_type": "code",
   "execution_count": null,
   "metadata": {
    "collapsed": true
   },
   "outputs": [],
   "source": []
  },
  {
   "cell_type": "code",
   "execution_count": null,
   "metadata": {
    "collapsed": true
   },
   "outputs": [],
   "source": []
  },
  {
   "cell_type": "code",
   "execution_count": null,
   "metadata": {
    "collapsed": true
   },
   "outputs": [],
   "source": []
  },
  {
   "cell_type": "code",
   "execution_count": null,
   "metadata": {
    "collapsed": true
   },
   "outputs": [],
   "source": []
  },
  {
   "cell_type": "markdown",
   "metadata": {},
   "source": [
    "# -----------------------------------------------\n",
    "# Information about dataset\n",
    "# -----------------------------------------------\n",
    "\n",
    "I use space below to make edits, test functions, explore dataset, etc."
   ]
  },
  {
   "cell_type": "markdown",
   "metadata": {},
   "source": [
    "# Imports"
   ]
  },
  {
   "cell_type": "code",
   "execution_count": null,
   "metadata": {
    "collapsed": true
   },
   "outputs": [],
   "source": [
    "import pandas as pd\n",
    "import numpy as np\n",
    "import matplotlib.pyplot as plt\n",
    "from datetime import datetime\n",
    "%matplotlib inline"
   ]
  },
  {
   "cell_type": "markdown",
   "metadata": {},
   "source": [
    "# Read a file"
   ]
  },
  {
   "cell_type": "code",
   "execution_count": null,
   "metadata": {
    "collapsed": true
   },
   "outputs": [],
   "source": [
    "fname = '../../original_data/x00-03.2017-05-25'"
   ]
  },
  {
   "cell_type": "code",
   "execution_count": null,
   "metadata": {
    "collapsed": true
   },
   "outputs": [],
   "source": [
    "alarms_fname = '../../original_data/x00-03_5.25.2017_alarms.csv'"
   ]
  },
  {
   "cell_type": "code",
   "execution_count": null,
   "metadata": {
    "collapsed": true
   },
   "outputs": [],
   "source": [
    "df = pd.read_json(fname, lines=True)"
   ]
  },
  {
   "cell_type": "code",
   "execution_count": null,
   "metadata": {},
   "outputs": [],
   "source": [
    "df"
   ]
  },
  {
   "cell_type": "markdown",
   "metadata": {},
   "source": [
    "**Notes:** \n",
    "* timestamps are out of order \n",
    "* lists need to be expanded \n",
    "* timestamps need to be generated for arrays of data (e.g. Pleth) \n",
    "* no UTC tz code present"
   ]
  },
  {
   "cell_type": "code",
   "execution_count": null,
   "metadata": {
    "collapsed": true
   },
   "outputs": [],
   "source": [
    "alarms = pd.read_csv(alarms_fname,parse_dates=[0])"
   ]
  },
  {
   "cell_type": "code",
   "execution_count": null,
   "metadata": {},
   "outputs": [],
   "source": [
    "alarms.head()"
   ]
  },
  {
   "cell_type": "markdown",
   "metadata": {},
   "source": [
    "**Notes:** \n",
    "* UTC timestamp has been applied -0400"
   ]
  },
  {
   "cell_type": "markdown",
   "metadata": {},
   "source": [
    "# Clean Alarms dataset\n",
    "\n",
    "This set of actions ensures all data input is on the same timestamp."
   ]
  },
  {
   "cell_type": "code",
   "execution_count": null,
   "metadata": {
    "collapsed": true
   },
   "outputs": [],
   "source": [
    "alarms.set_index(\"_time\").head()"
   ]
  },
  {
   "cell_type": "code",
   "execution_count": null,
   "metadata": {
    "scrolled": false
   },
   "outputs": [],
   "source": [
    "alarms.set_index(\"_time\").tz_localize(\"UTC\").tz_convert('Etc/GMT+4').head()"
   ]
  },
  {
   "cell_type": "code",
   "execution_count": null,
   "metadata": {
    "collapsed": true
   },
   "outputs": [],
   "source": [
    "alarms.set_index(\"_time\").tz_localize(\"UTC\").tz_convert('Etc/GMT+4').head().iloc[0]"
   ]
  },
  {
   "cell_type": "code",
   "execution_count": null,
   "metadata": {
    "collapsed": true
   },
   "outputs": [],
   "source": [
    "alarms.set_index(\"_time\").tz_localize(\"UTC\").tz_convert('Etc/GMT+4').index.to_pydatetime()"
   ]
  },
  {
   "cell_type": "code",
   "execution_count": null,
   "metadata": {
    "collapsed": true
   },
   "outputs": [],
   "source": [
    "alarms.set_index(\"_time\").tz_localize(\"UTC\").tz_convert('Etc/GMT+4').index.to_pydatetime().size"
   ]
  },
  {
   "cell_type": "code",
   "execution_count": null,
   "metadata": {
    "collapsed": true
   },
   "outputs": [],
   "source": [
    "alarms.set_index(\"_time\").tz_localize(\"UTC\").tz_convert('Etc/GMT+4').iloc[0]"
   ]
  },
  {
   "cell_type": "code",
   "execution_count": null,
   "metadata": {
    "collapsed": true
   },
   "outputs": [],
   "source": [
    "alarms.set_index(\"_time\").tz_localize(\"UTC\").tz_convert('Etc/GMT+4').loc['2017-05-27T23:43:27.536-0400']"
   ]
  },
  {
   "cell_type": "markdown",
   "metadata": {},
   "source": [
    "# Clean Signals dataset"
   ]
  },
  {
   "cell_type": "markdown",
   "metadata": {},
   "source": [
    "## Timestamps UTC/TZ"
   ]
  },
  {
   "cell_type": "code",
   "execution_count": null,
   "metadata": {
    "collapsed": true
   },
   "outputs": [],
   "source": [
    "df.set_index(\"timestamp\").tz_localize('Etc/GMT+4').head()"
   ]
  },
  {
   "cell_type": "code",
   "execution_count": null,
   "metadata": {
    "collapsed": true,
    "scrolled": true
   },
   "outputs": [],
   "source": [
    "df.set_index(\"timestamp\").tz_localize('Etc/GMT+4').groupby(\"timestamp\").first().head(10)"
   ]
  },
  {
   "cell_type": "code",
   "execution_count": null,
   "metadata": {
    "collapsed": true,
    "scrolled": true
   },
   "outputs": [],
   "source": [
    "df.set_index(\"timestamp\").tz_localize('Etc/GMT+4').groupby(\"timestamp\").last().head(10)"
   ]
  },
  {
   "cell_type": "code",
   "execution_count": null,
   "metadata": {
    "scrolled": true
   },
   "outputs": [],
   "source": [
    "df.set_index(\"timestamp\").tz_localize('Etc/GMT+4').groupby(\"timestamp\").first().head(10).combine_first(df.set_index(\"timestamp\").tz_localize('Etc/GMT+4').groupby(\"timestamp\").last().head(10))"
   ]
  },
  {
   "cell_type": "code",
   "execution_count": null,
   "metadata": {
    "collapsed": true
   },
   "outputs": [],
   "source": [
    "example = df.set_index(\"timestamp\").tz_localize('Etc/GMT+4').groupby(\"timestamp\").first().combine_first(df.set_index(\"timestamp\").tz_localize('Etc/GMT+4').groupby(\"timestamp\").last())"
   ]
  },
  {
   "cell_type": "code",
   "execution_count": null,
   "metadata": {
    "collapsed": true
   },
   "outputs": [],
   "source": [
    "cols = [0,7,8]\n",
    "example.drop(example.columns[cols],axis=1)['Respiration Rate'].dropna()"
   ]
  },
  {
   "cell_type": "code",
   "execution_count": null,
   "metadata": {
    "collapsed": true
   },
   "outputs": [],
   "source": [
    "df3 = example[['qos']]"
   ]
  },
  {
   "cell_type": "code",
   "execution_count": null,
   "metadata": {
    "scrolled": true
   },
   "outputs": [],
   "source": [
    "df3"
   ]
  },
  {
   "cell_type": "code",
   "execution_count": null,
   "metadata": {
    "scrolled": true
   },
   "outputs": [],
   "source": [
    "df3 = df3.set_index(df3.index - pd.Timedelta('5 seconds'))\n",
    "df3"
   ]
  },
  {
   "cell_type": "code",
   "execution_count": null,
   "metadata": {
    "scrolled": true
   },
   "outputs": [],
   "source": [
    "df2 = example.drop(['qos'],axis = 1)\n",
    "df2"
   ]
  },
  {
   "cell_type": "code",
   "execution_count": null,
   "metadata": {},
   "outputs": [],
   "source": [
    "merged = pd.merge(left=df2, left_index=True,\n",
    "                  right=df3, right_index=True,\n",
    "                  how='inner')\n",
    "merged"
   ]
  },
  {
   "cell_type": "code",
   "execution_count": null,
   "metadata": {
    "collapsed": true
   },
   "outputs": [],
   "source": [
    "example[\"Pleth\"].dropna()"
   ]
  },
  {
   "cell_type": "code",
   "execution_count": null,
   "metadata": {
    "collapsed": true
   },
   "outputs": [],
   "source": [
    "def expand_pleth_times(timestamp):\n",
    "    x = pd.date_range(timestamp, periods=32,freq='8L',closed=\"left\")\n",
    "    return x"
   ]
  },
  {
   "cell_type": "code",
   "execution_count": null,
   "metadata": {
    "collapsed": true
   },
   "outputs": [],
   "source": [
    "def expand_ecg_times(timestamp):\n",
    "    x = pd.date_range(timestamp, periods=64,freq='4L',closed=\"left\")\n",
    "    return x"
   ]
  },
  {
   "cell_type": "code",
   "execution_count": null,
   "metadata": {
    "collapsed": true
   },
   "outputs": [],
   "source": [
    "x = np.hstack(example[\"Pleth\"].dropna().index.to_series().apply(expand_pleth_times).values)\n",
    "y = np.hstack(example[\"Pleth\"].dropna().values)"
   ]
  },
  {
   "cell_type": "code",
   "execution_count": null,
   "metadata": {
    "collapsed": true
   },
   "outputs": [],
   "source": [
    "plt.plot(x,y)"
   ]
  },
  {
   "cell_type": "code",
   "execution_count": null,
   "metadata": {
    "collapsed": true
   },
   "outputs": [],
   "source": [
    "plt.plot(y)"
   ]
  },
  {
   "cell_type": "markdown",
   "metadata": {},
   "source": [
    "## Expand BP"
   ]
  },
  {
   "cell_type": "code",
   "execution_count": null,
   "metadata": {
    "collapsed": true
   },
   "outputs": [],
   "source": [
    "df[\"Non-invasive Blood Pressure\"].head(10).apply(pd.Series).apply(pd.to_numeric, errors=\"coerce\")"
   ]
  },
  {
   "cell_type": "code",
   "execution_count": null,
   "metadata": {
    "collapsed": true
   },
   "outputs": [],
   "source": [
    "# takes a long time to run on whole df\n",
    "%time df[\"Non-invasive Blood Pressure\"].apply(pd.Series).apply(pd.to_numeric, errors=\"coerce\")"
   ]
  },
  {
   "cell_type": "code",
   "execution_count": null,
   "metadata": {
    "collapsed": true
   },
   "outputs": [],
   "source": []
  }
 ],
 "metadata": {
  "kernelspec": {
   "display_name": "Python 3",
   "language": "python",
   "name": "python3"
  },
  "language_info": {
   "codemirror_mode": {
    "name": "ipython",
    "version": 3
   },
   "file_extension": ".py",
   "mimetype": "text/x-python",
   "name": "python",
   "nbconvert_exporter": "python",
   "pygments_lexer": "ipython3",
   "version": "3.6.1"
  }
 },
 "nbformat": 4,
 "nbformat_minor": 2
}
